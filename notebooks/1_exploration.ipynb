{
 "cells": [
  {
   "cell_type": "code",
   "execution_count": null,
   "metadata": {},
   "outputs": [],
   "source": [
    "import pandas as pd\n",
    "import numpy as pd"
   ]
  },
  {
   "cell_type": "code",
   "execution_count": null,
   "metadata": {},
   "outputs": [],
   "source": [
    "import torch\n",
    "import torch.nn as nn\n",
    "import torchvision.models as models\n",
    "\n",
    "class ResNetWrapper(nn.Module):\n",
    "    def __init__(self, num_classes):\n",
    "        super(ResNetWrapper, self).__init__()\n",
    "        self.resnet = models.resnet50(pretrained=True)\n",
    "        self.fc = nn.Linear(2048, num_classes)\n",
    "\n",
    "    def forward(self, img1, img2, comparison_img):\n",
    "        features1 = self.resnet(img1)\n",
    "        features2 = self.resnet(img2)\n",
    "        features_comparison = self.resnet(comparison_img)\n",
    "\n",
    "        # Compute similarity scores\n",
    "        similarity1 = torch.cosine_similarity(features_comparison, features1, dim=1)\n",
    "        similarity2 = torch.cosine_similarity(features_comparison, features2, dim=1)\n",
    "\n",
    "        # Determine which original picture the comparison is most similar to\n",
    "        if similarity1 > similarity2:\n",
    "            return \"Comparison is most similar to original picture 1\"\n",
    "        else:\n",
    "            return \"Comparison is most similar to original picture 2\"\n",
    "\n",
    "# Usage example\n",
    "model = ResNetWrapper(num_classes=2)\n",
    "img1 = torch.randn(1, 3, 224, 224)  # Example input image 1\n",
    "img2 = torch.randn(1, 3, 224, 224)  # Example input image 2\n",
    "comparison_img = torch.randn(1, 3, 224, 224)  # Example comparison image\n",
    "output = model(img1, img2, comparison_img)\n",
    "print(output)\n"
   ]
  }
 ],
 "metadata": {
  "language_info": {
   "name": "python"
  }
 },
 "nbformat": 4,
 "nbformat_minor": 2
}
